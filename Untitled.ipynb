{
 "cells": [
  {
   "cell_type": "code",
   "execution_count": 1,
   "metadata": {
    "collapsed": true
   },
   "outputs": [],
   "source": [
    "\"\"\"\n",
    "根据positionId进一步爬取更详细的信息\n",
    "\"\"\"\n",
    "import time\n",
    "import pymysql\n",
    "import requests\n",
    "from bs4 import BeautifulSoup\n",
    "\n",
    "headers = {\n",
    "    'Accept': 'text/html,application/xhtml+xml,application/xml;q=0.9,image/webp,image/apng,*/*;q=0.8',\n",
    "    'Accept-Encoding': 'gzip, deflate, br',\n",
    "    'Accept-Language': 'zh-CN,zh;q=0.9',\n",
    "    'Host': 'm.lagou.com',\n",
    "    'User-Agent': 'Mozilla/5.0 (Linux; Android 6.0; Nexus 5 Build/MRA58N) AppleWebKit/537.36 (KHTML, like Gecko) Chrome/63.0.3239.108 Mobile Safari/537.36'\n",
    "}\n",
    "cookies = {'JSESSIONID': '99021FFD6F8EC6B6CD209754427DEA93',\n",
    "           '_gat': '1',\n",
    "           'user_trace_token': '20170203041008-9835aec2-e983-11e6-8a36-525400f775ce',\n",
    "           'PRE_UTM': '',\n",
    "           'PRE_HOST': '',\n",
    "           'PRE_SITE': '',\n",
    "           'PRE_LAND': 'https%3A%2F%2Fwww.lagou.com%2Fzhaopin%2F',\n",
    "           'LGUID': '20170203041008-9835b1c9-e983-11e6-8a36-525400f775ce',\n",
    "           'SEARCH_ID': 'bfed7faa3a0244cc8dc1bb361f0e8e35',\n",
    "           'Hm_lvt_4233e74dff0ae5bd0a3d81c6ccf756e6': '1486066203',\n",
    "           'Hm_lpvt_4233e74dff0ae5bd0a3d81c6ccf756e6': '1486066567',\n",
    "           '_ga': 'GA1.2.2003702965.1486066203',\n",
    "           'LGSID': '20170203041008-9835b03a-e983-11e6-8a36-525400f775ce',\n",
    "           'LGRID': '20170203041612-714b1ea3-e984-11e6-8a36-525400f775ce'}\n"
   ]
  },
  {
   "cell_type": "code",
   "execution_count": null,
   "metadata": {
    "collapsed": true
   },
   "outputs": [],
   "source": [
    "def get_descriptions(position_id):\n",
    "    \"\"\"\n",
    "    通过从数据库获取的position_id来进一步获取该职位的进一步信息\n",
    "    param\n",
    "        position_id(list): 从数据库中获取的p_id\n",
    "    return\n",
    "        descriptions(list): 进一步爬取的详细信息\n",
    "    \"\"\"\n",
    "    descriptions = list()\n",
    "    print(len(position_id))\n",
    "    i = 0\n",
    "    for p_id in position_id:\n",
    "        url = 'https://m.lagou.com/jobs/{}.html'.format(p_id)\n",
    "        req = requests.get(url, headers=headers, cookies=cookies, timeout=10)\n",
    "        if req.status_code == 200:\n",
    "            html_code = req.text\n",
    "            '''\n",
    "                <div class=\"content\">\n",
    "                    <p>注意：工作地点在杭州</p>\n",
    "                    <p><br></p>\n",
    "                    <p>职位描述：</p>\n",
    "                    <p>...</p>\n",
    "                    ...\n",
    "                    <p>...</p>\n",
    "                    <p><br></p>\n",
    "                    <p>岗位要求：</p>\n",
    "                    <p>...</p>\n",
    "                    ...\n",
    "                    <p>...</p>\n",
    "                    <p><br></p>\n",
    "                    </div>\n",
    "            </div>\n",
    "            '''\n",
    "            soup = BeautifulSoup(html_code, 'html5lib')\n",
    "            # job_bt = soup.findAll('dd',{'class': 'job_bt'})[0]\n",
    "            # doms = job_bt.findAll('div')[0]\n",
    "            # doms = doms.findAll('p')\n",
    "            # data = [item.get_text() for item in doms]\n",
    "            # print(p_id)\n",
    "            jd = soup.find_all('div', class_='content')[0].get_text().strip().replace('\\n', '').replace('&nbps;', '').replace('\\'', '\\\\\\'')\n",
    "            # print(jd)\n",
    "            descriptions.append(jd)\n",
    "            print(i)\n",
    "            i += 1\n",
    "        else:\n",
    "            print(req.status_code)\n",
    "        time.sleep(2)\n",
    "    return descriptions\n"
   ]
  },
  {
   "cell_type": "code",
   "execution_count": null,
   "metadata": {
    "collapsed": true
   },
   "outputs": [],
   "source": []
  },
  {
   "cell_type": "code",
   "execution_count": null,
   "metadata": {
    "collapsed": true
   },
   "outputs": [],
   "source": [
    "\n",
    "\n",
    "def get_position_id(cursor):\n",
    "    \"\"\"\n",
    "    从数据库中获取position_id\n",
    "    param\n",
    "        cursor:数据库的游标\n",
    "    return\n",
    "        position_id(list): 从数据库中获取的p_id\n",
    "    \"\"\"\n",
    "    query_sql = '''\n",
    "    select positionId from lagou_crawl.position_info\n",
    "    '''\n",
    "    cursor.execute(query_sql)\n",
    "    position_id = list()\n",
    "    for p_id in cursor.fetchall():\n",
    "        position_id.append(p_id[0])\n",
    "    return position_id\n",
    "\n",
    "\n",
    "\n",
    "\n",
    "\n",
    "\n",
    "\n"
   ]
  },
  {
   "cell_type": "code",
   "execution_count": null,
   "metadata": {
    "collapsed": true
   },
   "outputs": [],
   "source": [
    "def save_mysql(db, cursor, position_id, descriptions):\n",
    "    \"\"\"\n",
    "    将获取到的详细信息存入到mysql\n",
    "    \"\"\"\n",
    "    sql = '''\n",
    "    UPDATE lagou_crawl.position_info\n",
    "    SET job_description='%s'\n",
    "    WHERE positionId='%s'\n",
    "    '''\n",
    "    for i in range(len(descriptions)):\n",
    "        update_sql = sql % (descriptions[i], position_id[i])\n",
    "        print(update_sql)\n",
    "        cursor.execute(update_sql)\n",
    "        db.commit()"
   ]
  },
  {
   "cell_type": "code",
   "execution_count": null,
   "metadata": {
    "collapsed": true
   },
   "outputs": [],
   "source": [
    "if __name__ == '__main__':\n",
    "\n",
    "    db = pymysql.connect('localhost', 'root', '******', 'lagou_crawl', charset='utf8')\n",
    "    cursor = db.cursor()\n",
    "\n",
    "    position_id = get_position_id(cursor)\n",
    "    print(position_id)\n",
    "    descriptions = get_descriptions(position_id)\n",
    "    # print(descriptions)\n",
    "    print('爬取完毕')\n",
    "    \n",
    "    save_mysql(db, cursor, position_id, descriptions)\n",
    "    print('存储完毕')\n",
    "    cursor.close()\n",
    "    db.close()"
   ]
  }
 ],
 "metadata": {
  "kernelspec": {
   "display_name": "Python 3",
   "language": "python",
   "name": "python3"
  },
  "language_info": {
   "codemirror_mode": {
    "name": "ipython",
    "version": 3
   },
   "file_extension": ".py",
   "mimetype": "text/x-python",
   "name": "python",
   "nbconvert_exporter": "python",
   "pygments_lexer": "ipython3",
   "version": "3.6.2"
  }
 },
 "nbformat": 4,
 "nbformat_minor": 2
}
