{
 "cells": [
  {
   "cell_type": "code",
   "execution_count": 91,
   "metadata": {
    "collapsed": true
   },
   "outputs": [],
   "source": [
    "import os\n",
    "import time\n",
    "import requests\n",
    "from bs4 import BeautifulSoup\n",
    "import numpy as np\n",
    "import pandas as pd\n",
    "from sqlalchemy import create_engine"
   ]
  },
  {
   "cell_type": "code",
   "execution_count": 93,
   "metadata": {},
   "outputs": [
    {
     "data": {
      "text/plain": [
       "3"
      ]
     },
     "execution_count": 93,
     "metadata": {},
     "output_type": "execute_result"
    }
   ],
   "source": [
    "np.random.randint(1,3)"
   ]
  },
  {
   "cell_type": "code",
   "execution_count": 101,
   "metadata": {},
   "outputs": [
    {
     "data": {
      "text/plain": [
       "2"
      ]
     },
     "execution_count": 101,
     "metadata": {},
     "output_type": "execute_result"
    }
   ],
   "source": [
    "import math\n",
    "math.ceil(17/15)"
   ]
  },
  {
   "cell_type": "code",
   "execution_count": 116,
   "metadata": {},
   "outputs": [
    {
     "data": {
      "text/plain": [
       "4.661101665142667"
      ]
     },
     "execution_count": 116,
     "metadata": {},
     "output_type": "execute_result"
    }
   ],
   "source": [
    "np.random.rand()*20"
   ]
  },
  {
   "cell_type": "code",
   "execution_count": 6,
   "metadata": {
    "collapsed": true
   },
   "outputs": [],
   "source": [
    "header = {'Host': 'www.lagou.com',\n",
    "           'Origin': 'https://www.lagou.com',\n",
    "           'Referer': 'https://www.lagou.com/jobs/list_%E6%95%B0%E6%8D%AE%E5%88%86%E6%9E%90?labelWords=&fromSearch=true&suginput=',\n",
    "           'User-Agent': 'Mozilla/5.0 (Windows NT 10.0; Win64; x64) AppleWebKit/537.36 (KHTML, like Gecko) Chrome/65.0.3325.181 Safari/537.36',\n",
    "           }\n",
    "          \n",
    "\n",
    "cookie = {'JSESSIONID': 'ABAAABAAAGGABCBD6CF3DF428E3511D25B9B7FB773F7B0E',\n",
    "           '_gat': '1',\n",
    "           'user_trace_token': '20180314163431-b3a5992f-95ac-4cdb-84bd-8f86a5e084ad',\n",
    "           'PRE_UTM': '',\n",
    "           'PRE_HOST': '',\n",
    "           'PRE_SITE': '',\n",
    "           'PRE_LAND': 'https%3A%2F%2Fwww.lagou.com%2F',\n",
    "           'LGUID': '20180314163432-84e6251a-2762-11e8-b1e3-5254005c3644',\n",
    "           'SEARCH_ID': 'a7eabf5cad164281999a3f8aea9ccbf6',           \n",
    "           '_ga': 'GA1.2.2003702965.1486066203',\n",
    "           'LGSID': '20180412084817-30b63808-3deb-11e8-b9e2-525400f775ce',\n",
    "           'LGRID': '20180412084817-30b63808-3deb-11e8-b9e2-525400f775ce'}\n"
   ]
  },
  {
   "cell_type": "code",
   "execution_count": 96,
   "metadata": {},
   "outputs": [
    {
     "data": {
      "text/plain": [
       "[1, 2, 3, 4, 5, 6, 7, 8, 9]"
      ]
     },
     "execution_count": 96,
     "metadata": {},
     "output_type": "execute_result"
    }
   ],
   "source": [
    "list(range(1,10))"
   ]
  },
  {
   "cell_type": "code",
   "execution_count": 7,
   "metadata": {},
   "outputs": [
    {
     "data": {
      "text/plain": [
       "'岗位职责：任职资格：'"
      ]
     },
     "execution_count": 7,
     "metadata": {},
     "output_type": "execute_result"
    }
   ],
   "source": [
    "get_descriptions(2853375)\n",
    "3862675\n",
    "4163649"
   ]
  },
  {
   "cell_type": "code",
   "execution_count": 88,
   "metadata": {},
   "outputs": [],
   "source": [
    "\n",
    "url = 'https://www.lagou.com/jobs/{}.html'.format(3862675)\n",
    "respons = requests.get(url, headers=header, cookies=cookie, timeout=10)\n",
    "try:\n",
    "    if respons.status_code == 200:\n",
    "        html_code = respons.text\n",
    "        soup = BeautifulSoup(html_code, 'lxml')\n",
    "        jd = soup.select('#job_detail > dd.job_bt > div',)\n",
    "        #jd = job_detail = soup.select('#job_detail > dd.job_bt ',)                 \n",
    "        content = jd[0].get_text()\n",
    "        content_clean = \"\".join(content.split())\n",
    "except:\n",
    "    print('error', url)"
   ]
  },
  {
   "cell_type": "code",
   "execution_count": 90,
   "metadata": {},
   "outputs": [
    {
     "data": {
      "text/plain": [
       "'职位职责：1、负责运营业务的数据管理、业务分析工作，对各类分析任务中发现的问题，进行跟踪、定位、分析工作；2、根据公司政策和业务发展趋势，定期做销售分析，从代理商纬度、产品纬度、行业纬度、客户纬度对整体的业务进行分析，及时发现问题进行预警，并提出解决办法；3、对部门现有业务数据进行梳理汇总和跟踪监控，建立日常跟踪监控体系，及时敏锐的发现业务数据变化趋势；4、对运营中存在的问题点、困难点，给出数据支持、分析报告建议、问题解决方案；对重要节点或特殊节点业务消耗的变化进行专门的研究并形成分析报告；5、构建各种分析和预测模型，通过跟踪和监控重点数据,发现潜在的缺陷与机会,为业务决策提供数据支撑。职位要求：1、本科学历以上，3年以上电商或互联网数据分析经验，数据化运营经验，互联网广告等相关经验优先；2、良好的数据敏感度，能从海量数据中提炼核心结果，有丰富的数据挖掘，信息采集整理，分析能力；3、熟练独立编写商业数据分析报告，及时发现和分析其中隐含的变化和问题；4、精通Excel和PPT，熟练使用SQL和tableau或其它数据分析工具优先；5、有丰富的跨团队、部门的项目资源整合能力，能够独立开展研究项目，有较强的逻辑思维能力及抗压能力。'"
      ]
     },
     "execution_count": 90,
     "metadata": {},
     "output_type": "execute_result"
    }
   ],
   "source": [
    "np."
   ]
  },
  {
   "cell_type": "code",
   "execution_count": 48,
   "metadata": {},
   "outputs": [],
   "source": [
    "out = \"\".join(content.split())"
   ]
  },
  {
   "cell_type": "code",
   "execution_count": 59,
   "metadata": {},
   "outputs": [
    {
     "data": {
      "text/plain": [
       "'职位描述：1、深入理解业务方向，与业务一起构建数据体系、日常报表并推动数据产品化，完善日常数据监控体系，监控和洞察业务问题；2、深入理解业务运作，利用多种分析方法和手段，分析用户、产品及营销等，发现业务问题与机会，并能给出有效的行动建议，辅助业务决策；3、与业务部门紧密合作，实施数据分析的结果并跟踪其效果。职位要求：1、本科及以上学历，统计学、经济、数理、信息和计算机等相关专业；2、3年及以上相关工作经验，有互联网或移动互联网行业用户、产品及营销分析经验优先；3、熟练掌握Excel、SQL、PPT及至少一种常用数据分析工具（SPSS/SAS/R/Python等）；4、熟悉并理解常规的数据分析方法、数据挖掘算法；5、商业和业务逻辑敏感度高，具备良好的逻辑分析和系统性思维能力，优秀的数据思维和强烈的数据决策意识，且思维缜密，做事认真严谨；6、良好的沟通能力、团队精神及抗压能力。'"
      ]
     },
     "execution_count": 59,
     "metadata": {},
     "output_type": "execute_result"
    }
   ],
   "source": [
    "out"
   ]
  },
  {
   "cell_type": "code",
   "execution_count": 68,
   "metadata": {},
   "outputs": [
    {
     "ename": "AttributeError",
     "evalue": "'list' object has no attribute 'get_text'",
     "output_type": "error",
     "traceback": [
      "\u001b[1;31m---------------------------------------------------------------------------\u001b[0m",
      "\u001b[1;31mAttributeError\u001b[0m                            Traceback (most recent call last)",
      "\u001b[1;32m<ipython-input-68-153940d474d4>\u001b[0m in \u001b[0;36m<module>\u001b[1;34m()\u001b[0m\n\u001b[1;32m----> 1\u001b[1;33m \u001b[0mjd\u001b[0m\u001b[1;33m.\u001b[0m\u001b[0mget_text\u001b[0m\u001b[1;33m(\u001b[0m\u001b[1;33m)\u001b[0m\u001b[1;33m\u001b[0m\u001b[0m\n\u001b[0m",
      "\u001b[1;31mAttributeError\u001b[0m: 'list' object has no attribute 'get_text'"
     ]
    }
   ],
   "source": [
    "jd.get_text()"
   ]
  },
  {
   "cell_type": "code",
   "execution_count": 60,
   "metadata": {},
   "outputs": [
    {
     "data": {
      "text/plain": [
       "'职位描述：\\xa01、深入理解业务方向，与业务一起构建数据体系、日常报表并推动数据产品化，完善日常数据监控体系，监控和洞察业务问题；\\xa02、深入理解业务运作，利用多种分析方法和手段，分析用户、产品及营销等，发现业务问题与机会，并能给出有效的行动建议，辅助业务决策；\\xa03、与业务部门紧密合作，实施数据分析的结果并跟踪其效果。\\xa0职位要求：\\xa01、本科及以上学历，统计学、经济、数理、信息和计算机等相关专业；\\xa02、3年及以上相关工作经验，有互联网或移动互联网行业用户、产品及营销分析经验优先；\\xa03、熟练掌握Excel、SQL、PPT及至少一种常用数据分析工具（SPSS/SAS/R/Python等）；\\xa04、熟悉并理解常规的数据分析方法、数据挖掘算法；\\xa05、商业和业务逻辑敏感度高，具备良好的逻辑分析和系统性思维能力，优秀的数据思维和强烈的数据决策意识，且思维缜密，做事认真严谨；\\xa06、良好的沟通能力、团队精神及抗压能力。\\xa0'"
      ]
     },
     "execution_count": 60,
     "metadata": {},
     "output_type": "execute_result"
    }
   ],
   "source": [
    "content"
   ]
  },
  {
   "cell_type": "code",
   "execution_count": null,
   "metadata": {
    "collapsed": true
   },
   "outputs": [],
   "source": [
    "#job_detail > dd.job_bt\n",
    "#job_detail > dd.job_bt > div\n",
    "#job_detail > dd.job_bt"
   ]
  }
 ],
 "metadata": {
  "kernelspec": {
   "display_name": "Python 3",
   "language": "python",
   "name": "python3"
  },
  "language_info": {
   "codemirror_mode": {
    "name": "ipython",
    "version": 3
   },
   "file_extension": ".py",
   "mimetype": "text/x-python",
   "name": "python",
   "nbconvert_exporter": "python",
   "pygments_lexer": "ipython3",
   "version": "3.6.2"
  }
 },
 "nbformat": 4,
 "nbformat_minor": 2
}
